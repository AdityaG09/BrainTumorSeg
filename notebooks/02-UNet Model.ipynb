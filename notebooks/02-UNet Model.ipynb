{
  "cells": [
    {
      "cell_type": "markdown",
      "source": [
        "### Imports"
      ],
      "metadata": {}
    },
    {
      "cell_type": "code",
      "execution_count": 8,
      "source": [
        "import os\r\n",
        "import numpy as np\r\n",
        "\r\n",
        "import tensorflow\r\n",
        "from tensorflow import keras\r\n",
        "from tensorflow.keras.callbacks import History\r\n",
        "from tensorflow.keras.models import Model\r\n",
        "from tensorflow.keras.layers import Input, Add, concatenate, Activation, BatchNormalization, Conv2D, MaxPooling2D, Conv2DTranspose, UpSampling2D\r\n",
        "from tensorflow.keras.optimizers import Adam, SGD\r\n",
        "from tensorflow.keras.callbacks import ModelCheckpoint, EarlyStopping, CSVLogger\r\n",
        "import tensorflow.keras.backend as K"
      ],
      "outputs": [],
      "metadata": {
        "gather": {
          "logged": 1631870847325
        }
      }
    },
    {
      "cell_type": "code",
      "execution_count": 9,
      "source": [
        "print(tensorflow.__version__)\r\n",
        "print(tensorflow.keras.__version__)"
      ],
      "outputs": [
        {
          "output_type": "stream",
          "name": "stdout",
          "text": [
            "2.1.0\n",
            "2.2.4-tf\n"
          ]
        }
      ],
      "metadata": {
        "jupyter": {
          "source_hidden": false,
          "outputs_hidden": false
        },
        "nteract": {
          "transient": {
            "deleting": false
          }
        },
        "gather": {
          "logged": 1631870849251
        }
      }
    },
    {
      "cell_type": "markdown",
      "source": [
        "### Settings"
      ],
      "metadata": {}
    },
    {
      "cell_type": "code",
      "execution_count": 10,
      "source": [
        "keras.backend.set_image_data_format('channels_last')  \r\n",
        "\r\n",
        "img_rows = 240\r\n",
        "img_cols = 240\r\n",
        "smooth = 1."
      ],
      "outputs": [],
      "metadata": {
        "jupyter": {
          "source_hidden": false,
          "outputs_hidden": false
        },
        "nteract": {
          "transient": {
            "deleting": false
          }
        },
        "gather": {
          "logged": 1631870850970
        }
      }
    },
    {
      "cell_type": "markdown",
      "source": [
        "### Loss Function Definition"
      ],
      "metadata": {}
    },
    {
      "cell_type": "code",
      "execution_count": 11,
      "source": [
        "def dice_coeff(y_true, y_pred):\r\n",
        "    y_true_f = keras.backend.flatten(y_true)\r\n",
        "    y_pred_f = keras.backend.flatten(y_pred)\r\n",
        "    intersection = keras.backend.sum(y_true_f * y_pred_f)\r\n",
        "    return (2. * intersection + smooth) / (K.sum(y_true_f) + K.sum(y_pred_f) + smooth)\r\n",
        "\r\n",
        "\r\n",
        "def dice_coeff_loss(y_true, y_pred):\r\n",
        "    return -dice_coeff(y_true, y_pred)"
      ],
      "outputs": [],
      "metadata": {
        "jupyter": {
          "source_hidden": false,
          "outputs_hidden": false
        },
        "nteract": {
          "transient": {
            "deleting": false
          }
        },
        "gather": {
          "logged": 1631870851969
        }
      }
    },
    {
      "cell_type": "markdown",
      "source": [
        "### UNet Architecture Definition"
      ],
      "metadata": {}
    },
    {
      "cell_type": "code",
      "execution_count": 12,
      "source": [
        "def DoubleConv2D(n_filters, input, activation='relu', padding='same'):\r\n",
        "    conv_output_a = Conv2D(n_filters, (3, 3), padding = padding)(input)\r\n",
        "    bnorm_a = BatchNormalization()(conv_output_a)\r\n",
        "    activated_a = Activation(activation)(bnorm_a)\r\n",
        "    conv_output_b = Conv2D(n_filters, (3, 3), padding = padding)(activated_a)\r\n",
        "    bnorm_b = BatchNormalization()(conv_output_b)\r\n",
        "    activated_b = Activation(activation)(bnorm_b)\r\n",
        "    return activated_b\r\n",
        "\r\n",
        "def ContractingBlock2D(n_filters, input):\r\n",
        "    double_conv_output = DoubleConv2D(n_filters, input)\r\n",
        "    pool = MaxPooling2D(pool_size=(2, 2))(double_conv_output)\r\n",
        "    return double_conv_output, pool\r\n",
        "\r\n",
        "def ExpandingBlock2D(n_filters, upconv_input, concat_input):\r\n",
        "    upsamp = Conv2DTranspose(n_filters, (2, 2), strides=(2, 2), padding = 'same')(upconv_input)\r\n",
        "    conv_input = concatenate([upsamp, concat_input], axis=3)\r\n",
        "    double_conv_output = DoubleConv2D(n_filters, conv_input)\r\n",
        "    return double_conv_output \r\n",
        "\r\n",
        "def UNet():\r\n",
        "    input_tensor = Input((img_rows, img_cols, 1))\r\n",
        "\r\n",
        "    conv_1, pool_1 = ContractingBlock2D(32, input_tensor)\r\n",
        "    conv_2, pool_2 = ContractingBlock2D(64, pool_1)\r\n",
        "    conv_3, pool_3 = ContractingBlock2D(128, pool_2)\r\n",
        "    conv_4, pool_4 = ContractingBlock2D(256, pool_3)\r\n",
        "\r\n",
        "    conv_5 = DoubleConv2D(512, pool_4)\r\n",
        "\r\n",
        "    conv_6 = ExpandingBlock2D(256, conv_5, conv_4)\r\n",
        "    conv_7 = ExpandingBlock2D(128, conv_6, conv_3)\r\n",
        "    conv_8 = ExpandingBlock2D(64, conv_7, conv_2)\r\n",
        "    conv_9 = ExpandingBlock2D(32, conv_8, conv_1)\r\n",
        "\r\n",
        "    conv_10 = Conv2D(1, (1, 1), activation = 'sigmoid')(conv_9)\r\n",
        "\r\n",
        "    model = Model(inputs = [input_tensor], outputs = [conv_10])\r\n",
        "    return model"
      ],
      "outputs": [],
      "metadata": {
        "jupyter": {
          "source_hidden": false,
          "outputs_hidden": false
        },
        "nteract": {
          "transient": {
            "deleting": false
          }
        },
        "gather": {
          "logged": 1631870852514
        }
      }
    },
    {
      "cell_type": "code",
      "execution_count": 13,
      "source": [
        "model = UNet()"
      ],
      "outputs": [],
      "metadata": {
        "jupyter": {
          "source_hidden": false,
          "outputs_hidden": false
        },
        "nteract": {
          "transient": {
            "deleting": false
          }
        },
        "gather": {
          "logged": 1631870855120
        }
      }
    },
    {
      "cell_type": "code",
      "execution_count": 14,
      "source": [
        "model.compile(optimizer = Adam(learning_rate = 1e-3), loss = dice_coeff_loss, metrics = [dice_coeff])"
      ],
      "outputs": [],
      "metadata": {
        "jupyter": {
          "source_hidden": false,
          "outputs_hidden": false
        },
        "nteract": {
          "transient": {
            "deleting": false
          }
        },
        "gather": {
          "logged": 1631870860366
        }
      }
    },
    {
      "cell_type": "code",
      "execution_count": 16,
      "source": [
        "model_ckpt = ModelCheckpoint('final_unet_weights.h5', monitor='val_loss', save_best_only=True)\r\n",
        "early_stop = EarlyStopping(monitor = 'val_loss', patience = 5)\r\n",
        "csv_logger = CSVLogger('training.log')"
      ],
      "outputs": [],
      "metadata": {
        "jupyter": {
          "source_hidden": false,
          "outputs_hidden": false
        },
        "nteract": {
          "transient": {
            "deleting": false
          }
        },
        "gather": {
          "logged": 1631870868295
        }
      }
    },
    {
      "cell_type": "markdown",
      "source": [
        "### Loading Dataset + Normalization"
      ],
      "metadata": {}
    },
    {
      "cell_type": "code",
      "execution_count": 17,
      "source": [
        "imgs_train = np.load('imgs_train.npy').astype('float32') \r\n",
        "masks_train = np.load('masks_train.npy').astype('float32') \r\n",
        "\r\n",
        "imgs_train = np.reshape(imgs_train, (imgs_train.shape[0], img_rows, img_cols, 1))\r\n",
        "masks_train = np.reshape(masks_train, (masks_train.shape[0], img_rows, img_cols, 1))"
      ],
      "outputs": [],
      "metadata": {
        "jupyter": {
          "source_hidden": false,
          "outputs_hidden": false
        },
        "nteract": {
          "transient": {
            "deleting": false
          }
        },
        "gather": {
          "logged": 1631870903410
        }
      }
    },
    {
      "cell_type": "code",
      "execution_count": 18,
      "source": [
        "mean = np.mean(imgs_train)\r\n",
        "std = np.std(imgs_train)"
      ],
      "outputs": [],
      "metadata": {
        "jupyter": {
          "source_hidden": false,
          "outputs_hidden": false
        },
        "nteract": {
          "transient": {
            "deleting": false
          }
        },
        "gather": {
          "logged": 1631870905813
        }
      }
    },
    {
      "cell_type": "code",
      "execution_count": 19,
      "source": [
        "imgs_train -= mean\r\n",
        "imgs_train /= std"
      ],
      "outputs": [],
      "metadata": {
        "jupyter": {
          "source_hidden": false,
          "outputs_hidden": false
        },
        "nteract": {
          "transient": {
            "deleting": false
          }
        },
        "gather": {
          "logged": 1631870906726
        }
      }
    },
    {
      "cell_type": "markdown",
      "source": [
        "### Model Training"
      ],
      "metadata": {}
    },
    {
      "cell_type": "code",
      "execution_count": 20,
      "source": [
        "history=model.fit(imgs_train, masks_train, batch_size=256, epochs=20, verbose=1, shuffle=True,\r\n",
        "              validation_split=0.2,\r\n",
        "              callbacks=[model_ckpt, early_stop, csv_logger])"
      ],
      "outputs": [
        {
          "output_type": "stream",
          "name": "stdout",
          "text": [
            "Train on 9184 samples, validate on 2297 samples\n",
            "Epoch 1/20\n",
            "9184/9184 [==============================] - 3820s 416ms/sample - loss: -0.1259 - dice_coeff: 0.1260 - val_loss: -0.0856 - val_dice_coeff: 0.0856\b\b\b\b\b\b\b\b\b\b\b\b\b\b\b\b\b\b\b\b\b\b\b\b\b\b\b\b\b\b\b\b\b\b\b\b\b\b\b\b\b\b\b\n",
            "Epoch 2/20\n",
            "9184/9184 [==============================] - 3816s 415ms/sample - loss: -0.1818 - dice_coeff: 0.1819 - val_loss: -0.0591 - val_dice_coeff: 0.0590\b\b\b\b\b\b\b\b\b\b\b\b\b\b\b\b\b\b\b\b\b\b\b\b\b\b\b\b\b\b\b\b\b\b\b\b\b\b\b\n",
            "Epoch 3/20\n",
            "9184/9184 [==============================] - 3813s 415ms/sample - loss: -0.2777 - dice_coeff: 0.2778 - val_loss: -0.0697 - val_dice_coeff: 0.0697\b\b\b\b\b\b\b\b\b\b\b\b\b\b\b\b\b\b\b\b\b\b\b\b\b\b\b\b\b\b\b\b\b\b\b\b\b\b\b\n",
            "Epoch 4/20\n",
            "9184/9184 [==============================] - 3805s 414ms/sample - loss: -0.4055 - dice_coeff: 0.4056 - val_loss: -0.0796 - val_dice_coeff: 0.0796\b\b\b\b\b\b\b\b\b\b\b\b\b\b\b\b\b\b\b\b\b\b\b\b\b\b\b\b\b\b\b\b\b\b\b\b\b\b\b\n",
            "Epoch 5/20\n",
            "9184/9184 [==============================] - 3809s 415ms/sample - loss: -0.5217 - dice_coeff: 0.5219 - val_loss: -0.1409 - val_dice_coeff: 0.1409\b\b\b\b\b\b\b\b\b\b\b\b\b\b\b\b\b\b\b\b\b\b\b\b\b\b\b\b\b\b\b\b\b\b\b\b\b\b\b\n",
            "Epoch 6/20\n",
            "9184/9184 [==============================] - 3747s 408ms/sample - loss: -0.5959 - dice_coeff: 0.5961 - val_loss: -0.2959 - val_dice_coeff: 0.2959\b\b\b\b\b\b\b\b\b\b\b\b\b\b\b\b\b\b\b\b\b\b\b\b\b\b\b\b\b\b\b\b\b\b\b\b\b\b\b\n",
            "Epoch 7/20\n",
            "9184/9184 [==============================] - 3729s 406ms/sample - loss: -0.6458 - dice_coeff: 0.6458 - val_loss: -0.3555 - val_dice_coeff: 0.3556\b\b\b\b\b\b\b\b\b\b\b\b\b\b\b\b\b\b\b\b\b\b\b\b\b\b\b\b\b\b\b\b\b\b\b\b\b\b\b\n",
            "Epoch 8/20\n",
            "9184/9184 [==============================] - 3725s 406ms/sample - loss: -0.6813 - dice_coeff: 0.6814 - val_loss: -0.4324 - val_dice_coeff: 0.4325\b\b\b\b\b\b\b\b\b\b\b\b\b\b\b\b\b\b\b\b\b\b\b\b\b\b\b\b\b\b\b\b\b\b\b\b\b\b\b\n",
            "Epoch 9/20\n",
            "9184/9184 [==============================] - 3727s 406ms/sample - loss: -0.7048 - dice_coeff: 0.7049 - val_loss: -0.3765 - val_dice_coeff: 0.3766\b\b\b\b\b\b\b\b\b\b\b\b\b\b\b\b\b\b\b\b\b\b\b\b\b\b\b\b\b\b\b\b\b\b\b\b\b\b\b\n",
            "Epoch 10/20\n"
          ]
        }
      ],
      "metadata": {
        "jupyter": {
          "source_hidden": false,
          "outputs_hidden": false
        },
        "nteract": {
          "transient": {
            "deleting": false
          }
        },
        "gather": {
          "logged": 1631815568314
        }
      }
    },
    {
      "cell_type": "code",
      "execution_count": null,
      "source": [],
      "outputs": [],
      "metadata": {
        "jupyter": {
          "source_hidden": false,
          "outputs_hidden": false
        },
        "nteract": {
          "transient": {
            "deleting": false
          }
        }
      }
    }
  ],
  "metadata": {
    "kernelspec": {
      "name": "python3-azureml",
      "language": "python",
      "display_name": "Python 3.6 - AzureML"
    },
    "language_info": {
      "name": "python",
      "version": "3.6.9",
      "mimetype": "text/x-python",
      "codemirror_mode": {
        "name": "ipython",
        "version": 3
      },
      "pygments_lexer": "ipython3",
      "nbconvert_exporter": "python",
      "file_extension": ".py"
    },
    "kernel_info": {
      "name": "python3-azureml"
    },
    "microsoft": {
      "host": {
        "AzureML": {
          "notebookHasBeenCompleted": true
        }
      }
    },
    "nteract": {
      "version": "nteract-front-end@1.0.0"
    }
  },
  "nbformat": 4,
  "nbformat_minor": 2
}