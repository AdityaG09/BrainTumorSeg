{
  "cells": [
    {
      "cell_type": "markdown",
      "source": [
        "### Imports"
      ],
      "metadata": {}
    },
    {
      "cell_type": "code",
      "execution_count": 1,
      "source": [
        "import os\r\n",
        "import numpy as np\r\n",
        "\r\n",
        "import tensorflow\r\n",
        "from tensorflow import keras\r\n",
        "from tensorflow.keras.callbacks import History\r\n",
        "from tensorflow.keras.models import Model\r\n",
        "from tensorflow.keras.layers import Input, Add, concatenate, Activation, BatchNormalization, Conv2D, MaxPooling2D, Conv2DTranspose, UpSampling2D\r\n",
        "from tensorflow.keras.optimizers import Adam, SGD\r\n",
        "from tensorflow.keras.callbacks import ModelCheckpoint, EarlyStopping, CSVLogger\r\n",
        "import tensorflow.keras.backend as K"
      ],
      "outputs": [],
      "metadata": {
        "gather": {
          "logged": 1631802372426
        }
      }
    },
    {
      "cell_type": "markdown",
      "source": [
        "### Settings"
      ],
      "metadata": {}
    },
    {
      "cell_type": "code",
      "execution_count": 2,
      "source": [
        "keras.backend.set_image_data_format('channels_last')  \r\n",
        "\r\n",
        "img_rows = 240\r\n",
        "img_cols = 240\r\n",
        "smooth = 1."
      ],
      "outputs": [],
      "metadata": {
        "jupyter": {
          "source_hidden": false,
          "outputs_hidden": false
        },
        "nteract": {
          "transient": {
            "deleting": false
          }
        },
        "gather": {
          "logged": 1631802372632
        }
      }
    },
    {
      "cell_type": "markdown",
      "source": [
        "### Loss Function Definition"
      ],
      "metadata": {}
    },
    {
      "cell_type": "code",
      "execution_count": 3,
      "source": [
        "def dice_coeff(y_true, y_pred):\r\n",
        "    y_true_f = keras.backend.flatten(y_true)\r\n",
        "    y_pred_f = keras.backend.flatten(y_pred)\r\n",
        "    intersection = keras.backend.sum(y_true_f * y_pred_f)\r\n",
        "    return (2. * intersection + smooth) / (K.sum(y_true_f) + K.sum(y_pred_f) + smooth)\r\n",
        "\r\n",
        "\r\n",
        "def dice_coeff_loss(y_true, y_pred):\r\n",
        "    return -dice_coeff(y_true, y_pred)"
      ],
      "outputs": [],
      "metadata": {
        "jupyter": {
          "source_hidden": false,
          "outputs_hidden": false
        },
        "nteract": {
          "transient": {
            "deleting": false
          }
        },
        "gather": {
          "logged": 1631802372837
        }
      }
    },
    {
      "cell_type": "markdown",
      "source": [
        "### ResUNet Architecture Definition"
      ],
      "metadata": {}
    },
    {
      "cell_type": "code",
      "execution_count": 4,
      "source": [
        "def Conv2DBlock(n_filters, input, padding='same', strides=2):\r\n",
        "    bnorm = BatchNormalization()(input)\r\n",
        "    activated = Activation('relu')(bnorm)\r\n",
        "    conv_output = Conv2D(n_filters, (3, 3), padding=padding, strides=strides)(activated)\r\n",
        "    return conv_output\r\n",
        "\r\n",
        "def ContractingBlock2D(n_filters, input):\r\n",
        "\r\n",
        "    conv_a = Conv2DBlock(n_filters, input, strides=2)\r\n",
        "    conv_b = Conv2DBlock(n_filters, conv_a, strides=1)\r\n",
        "\r\n",
        "    shortcut = Conv2D(n_filters, (1, 1), padding='same', strides=2)(input)\r\n",
        "    bnorm_shortcut = BatchNormalization()(shortcut)\r\n",
        "\r\n",
        "    output = Add()([bnorm_shortcut, conv_b])\r\n",
        "    return output\r\n",
        "\r\n",
        "def ExpandingBlock2D(n_filters, upconv_input, concat_input):\r\n",
        "\r\n",
        "    upsamp = UpSampling2D((2, 2))(upconv_input)\r\n",
        "    conv_input = concatenate([upsamp, concat_input], axis=3)\r\n",
        "\r\n",
        "    conv_a = Conv2DBlock(n_filters, conv_input, strides=1)\r\n",
        "    conv_b = Conv2DBlock(n_filters, conv_a, strides=1)\r\n",
        "\r\n",
        "    shortcut = Conv2D(n_filters, (1, 1), padding='same', strides=1)(conv_b)\r\n",
        "    bnorm_shortcut = BatchNormalization()(shortcut)\r\n",
        "\r\n",
        "    output = Add()([bnorm_shortcut, conv_b])\r\n",
        "    return output\r\n",
        "    \r\n",
        "def ResUNet():\r\n",
        "    input_tensor = Input((img_rows, img_cols, 1))\r\n",
        "\r\n",
        "    conv_1 = Conv2D(32, (3, 3), padding='same')(input_tensor)\r\n",
        "    block_1 = Conv2DBlock(32, conv_1, padding='same', strides=1)\r\n",
        "    shortcut = Conv2D(32, (1, 1), padding='same', strides=1)(input_tensor)\r\n",
        "    bnorm_shortcut = BatchNormalization()(shortcut)\r\n",
        "    output_1 = Add()([block_1, bnorm_shortcut])\r\n",
        "\r\n",
        "    output_2 = ContractingBlock2D(64, output_1) \r\n",
        "    output_3 = ContractingBlock2D(128, output_2) \r\n",
        "    output_4 = ContractingBlock2D(256, output_3)\r\n",
        "\r\n",
        "    bridge_1 = Conv2DBlock(512, output_4, strides=2) \r\n",
        "    bridge_2 = Conv2DBlock(512, bridge_1, strides=1) \r\n",
        "\r\n",
        "    output_5 = ExpandingBlock2D(256, bridge_2, output_4) \r\n",
        "    output_6 = ExpandingBlock2D(128, output_5, output_3) \r\n",
        "    output_7 = ExpandingBlock2D(64, output_6, output_2) \r\n",
        "    output_8 = ExpandingBlock2D(32, output_7, output_1)\r\n",
        "\r\n",
        "    output_9 = Conv2D(1, (1, 1), activation = 'sigmoid')(output_8)\r\n",
        "\r\n",
        "    model = Model(inputs = [input_tensor], outputs = [output_9])\r\n",
        "    return model"
      ],
      "outputs": [],
      "metadata": {
        "jupyter": {
          "source_hidden": false,
          "outputs_hidden": false
        },
        "nteract": {
          "transient": {
            "deleting": false
          }
        },
        "gather": {
          "logged": 1631802373052
        }
      }
    },
    {
      "cell_type": "code",
      "execution_count": 5,
      "source": [
        "model = ResUNet()\r\n",
        "model.compile(optimizer = Adam(learning_rate = 1e-3), loss = dice_coeff_loss, metrics = [dice_coeff])\r\n",
        "model_ckpt = ModelCheckpoint('final_resunet_weights.h5', monitor='val_loss', save_best_only=True)\r\n",
        "early_stop = EarlyStopping(monitor = 'val_loss', patience = 5)"
      ],
      "outputs": [],
      "metadata": {
        "jupyter": {
          "source_hidden": false,
          "outputs_hidden": false
        },
        "nteract": {
          "transient": {
            "deleting": false
          }
        },
        "gather": {
          "logged": 1631802374815
        }
      }
    },
    {
      "cell_type": "markdown",
      "source": [
        "### Loading Dataset + Normalization"
      ],
      "metadata": {}
    },
    {
      "cell_type": "code",
      "execution_count": 6,
      "source": [
        "imgs_train = np.load('imgs_train.npy').astype('float32') \r\n",
        "masks_train = np.load('masks_train.npy').astype('float32') \r\n",
        "\r\n",
        "imgs_train = np.reshape(imgs_train, (imgs_train.shape[0], img_rows, img_cols, 1))\r\n",
        "masks_train = np.reshape(masks_train, (masks_train.shape[0], img_rows, img_cols, 1))"
      ],
      "outputs": [],
      "metadata": {
        "jupyter": {
          "source_hidden": false,
          "outputs_hidden": false
        },
        "nteract": {
          "transient": {
            "deleting": false
          }
        },
        "gather": {
          "logged": 1631802405509
        }
      }
    },
    {
      "cell_type": "code",
      "execution_count": 7,
      "source": [
        "mean = np.mean(imgs_train)  \r\n",
        "std = np.std(imgs_train)"
      ],
      "outputs": [],
      "metadata": {
        "jupyter": {
          "source_hidden": false,
          "outputs_hidden": false
        },
        "nteract": {
          "transient": {
            "deleting": false
          }
        },
        "gather": {
          "logged": 1631802409141
        }
      }
    },
    {
      "cell_type": "code",
      "execution_count": 8,
      "source": [
        "imgs_train -= mean\r\n",
        "imgs_train /= std"
      ],
      "outputs": [],
      "metadata": {
        "jupyter": {
          "source_hidden": false,
          "outputs_hidden": false
        },
        "nteract": {
          "transient": {
            "deleting": false
          }
        },
        "gather": {
          "logged": 1631802410258
        }
      }
    },
    {
      "cell_type": "markdown",
      "source": [
        "### Model Training"
      ],
      "metadata": {}
    },
    {
      "cell_type": "code",
      "execution_count": 9,
      "source": [
        "history=model.fit(imgs_train, masks_train, batch_size=128, epochs=2, verbose=1, shuffle=True,\r\n",
        "              validation_split=0.2,\r\n",
        "              callbacks=[model_ckpt, early_stop])"
      ],
      "outputs": [
        {
          "output_type": "stream",
          "name": "stdout",
          "text": [
            "Train on 9184 samples, validate on 2297 samples\n",
            "Epoch 1/2\n",
            "9184/9184 [==============================] - 10099s 1s/sample - loss: -0.3603 - dice_coeff: 0.3606 - val_loss: -0.0586 - val_dice_coeff: 0.0586\b\b\b\b\b\b\b\b\b\b\b\b\b\b\b\b\b\b\b\b\b\b\b\b\b\b\b\b\b\b\b\b\b\b\b\b\b\b\b\b\b\b\b\b\b\n",
            "Epoch 2/2\n",
            "9184/9184 [==============================] - 6879s 749ms/sample - loss: -0.5675 - dice_coeff: 0.5677 - val_loss: -0.0337 - val_dice_coeff: 0.0337\b\b\b\b\b\b\b\b\b\b\b\b\b\b\b\b\b\b\b\b\b\b\b\b\b\b\b\b\b\b\b\b\b\b\b\b\b\b\b\b\b\b\b\n"
          ]
        }
      ],
      "metadata": {
        "jupyter": {
          "source_hidden": false,
          "outputs_hidden": false
        },
        "nteract": {
          "transient": {
            "deleting": false
          }
        },
        "gather": {
          "logged": 1631819392362
        }
      }
    },
    {
      "cell_type": "code",
      "execution_count": null,
      "source": [],
      "outputs": [],
      "metadata": {
        "jupyter": {
          "source_hidden": false,
          "outputs_hidden": false
        },
        "nteract": {
          "transient": {
            "deleting": false
          }
        }
      }
    }
  ],
  "metadata": {
    "kernelspec": {
      "name": "python3-azureml",
      "language": "python",
      "display_name": "Python 3.6 - AzureML"
    },
    "language_info": {
      "name": "python",
      "version": "3.6.9",
      "mimetype": "text/x-python",
      "codemirror_mode": {
        "name": "ipython",
        "version": 3
      },
      "pygments_lexer": "ipython3",
      "nbconvert_exporter": "python",
      "file_extension": ".py"
    },
    "microsoft": {
      "host": {
        "AzureML": {
          "notebookHasBeenCompleted": true
        }
      }
    },
    "nteract": {
      "version": "nteract-front-end@1.0.0"
    },
    "kernel_info": {
      "name": "python3-azureml"
    }
  },
  "nbformat": 4,
  "nbformat_minor": 2
}
